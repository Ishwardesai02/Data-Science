{
 "cells": [
  {
   "cell_type": "code",
   "execution_count": 58,
   "id": "2ef7a55b-f61e-47db-8da2-0e5eac7c8e13",
   "metadata": {},
   "outputs": [],
   "source": [
    "#importing packages\n",
    "import numpy as np\n",
    "import pandas as pd\n",
    "import matplotlib.pyplot as plt\n",
    "from numpy.linalg import eig"
   ]
  },
  {
   "cell_type": "code",
   "execution_count": 7,
   "id": "845d915f-9ee1-4e7b-9478-4348c1b63c59",
   "metadata": {},
   "outputs": [
    {
     "name": "stdout",
     "output_type": "stream",
     "text": [
      "[[3 4]\n",
      " [2 8]\n",
      " [6 9]]\n"
     ]
    }
   ],
   "source": [
    "#Defining a simple data\n",
    "Marks=np.array([[3,4],[2,8],[6,9]])\n",
    "print(Marks)"
   ]
  },
  {
   "cell_type": "code",
   "execution_count": 11,
   "id": "6a805e0f-ca0f-455c-a792-c3cba8abf30c",
   "metadata": {},
   "outputs": [
    {
     "data": {
      "text/html": [
       "<div>\n",
       "<style scoped>\n",
       "    .dataframe tbody tr th:only-of-type {\n",
       "        vertical-align: middle;\n",
       "    }\n",
       "\n",
       "    .dataframe tbody tr th {\n",
       "        vertical-align: top;\n",
       "    }\n",
       "\n",
       "    .dataframe thead th {\n",
       "        text-align: right;\n",
       "    }\n",
       "</style>\n",
       "<table border=\"1\" class=\"dataframe\">\n",
       "  <thead>\n",
       "    <tr style=\"text-align: right;\">\n",
       "      <th></th>\n",
       "      <th>Physics</th>\n",
       "      <th>Maths</th>\n",
       "    </tr>\n",
       "  </thead>\n",
       "  <tbody>\n",
       "    <tr>\n",
       "      <th>0</th>\n",
       "      <td>3</td>\n",
       "      <td>4</td>\n",
       "    </tr>\n",
       "    <tr>\n",
       "      <th>1</th>\n",
       "      <td>2</td>\n",
       "      <td>8</td>\n",
       "    </tr>\n",
       "    <tr>\n",
       "      <th>2</th>\n",
       "      <td>6</td>\n",
       "      <td>9</td>\n",
       "    </tr>\n",
       "  </tbody>\n",
       "</table>\n",
       "</div>"
      ],
      "text/plain": [
       "   Physics  Maths\n",
       "0        3      4\n",
       "1        2      8\n",
       "2        6      9"
      ]
     },
     "execution_count": 11,
     "metadata": {},
     "output_type": "execute_result"
    }
   ],
   "source": [
    "Marks_df=pd.DataFrame(Marks,columns=[\"Physics\",\"Maths\"])\n",
    "Marks_df"
   ]
  },
  {
   "cell_type": "code",
   "execution_count": 21,
   "id": "55edc822-fe36-4121-9879-53aa4e9e1f58",
   "metadata": {},
   "outputs": [
    {
     "data": {
      "text/plain": [
       "<matplotlib.collections.PathCollection at 0x191f285d610>"
      ]
     },
     "execution_count": 21,
     "metadata": {},
     "output_type": "execute_result"
    },
    {
     "data": {
      "image/png": "[encoded data removed]",
      "text/plain": [
       "<Figure size 640x480 with 1 Axes>"
      ]
     },
     "metadata": {},
     "output_type": "display_data"
    }
   ],
   "source": [
    "plt.scatter(Marks_df[\"Physics\"],Marks_df[\"Maths\"])"
   ]
  },
  {
   "cell_type": "code",
   "execution_count": 29,
   "id": "86231576-c3c0-4090-9b5c-06e0fb7d93b4",
   "metadata": {},
   "outputs": [
    {
     "name": "stdout",
     "output_type": "stream",
     "text": [
      "[3.66666667 7.        ]\n"
     ]
    }
   ],
   "source": [
    "#MAking Data mean centric\n",
    "Meanbycolumn=np.mean(Marks.T,axis=1)\n",
    "print(Meanbycolumn)\n",
    "\n",
    "Scaled_Data=Marks-Meanbycolumn"
   ]
  },
  {
   "cell_type": "code",
   "execution_count": 31,
   "id": "c705262b-d5c9-4ebd-bed3-84b73a679a67",
   "metadata": {},
   "outputs": [
    {
     "data": {
      "text/plain": [
       "array([[3, 2, 6],\n",
       "       [4, 8, 9]])"
      ]
     },
     "execution_count": 31,
     "metadata": {},
     "output_type": "execute_result"
    }
   ],
   "source": [
    "Marks.T"
   ]
  },
  {
   "cell_type": "code",
   "execution_count": 33,
   "id": "ab6f617b-8bab-442d-a6da-07c46b6b46cb",
   "metadata": {},
   "outputs": [
    {
     "data": {
      "text/plain": [
       "array([[-0.66666667, -3.        ],\n",
       "       [-1.66666667,  1.        ],\n",
       "       [ 2.33333333,  2.        ]])"
      ]
     },
     "execution_count": 33,
     "metadata": {},
     "output_type": "execute_result"
    }
   ],
   "source": [
    "Scaled_Data\n"
   ]
  },
  {
   "cell_type": "code",
   "execution_count": 35,
   "id": "1375fc97-216c-468f-b599-1db10522fd17",
   "metadata": {},
   "outputs": [
    {
     "data": {
      "text/plain": [
       "array([[4.33333333, 2.5       ],\n",
       "       [2.5       , 7.        ]])"
      ]
     },
     "execution_count": 35,
     "metadata": {},
     "output_type": "execute_result"
    }
   ],
   "source": [
    "#Finding Covariance matrix\n",
    "cov_mat=np.cov(Scaled_Data.T)\n",
    "cov_mat\n",
    "\n",
    "#Covariance a,b=[Cov a,a  Cov a,b\n",
    "#                Cov b,a  Cov b,b]"
   ]
  },
  {
   "cell_type": "code",
   "execution_count": 60,
   "id": "7e6f81d8-9467-4da7-af3d-5f6968ae867c",
   "metadata": {},
   "outputs": [
    {
     "name": "stdout",
     "output_type": "stream",
     "text": [
      "[2.83333333 8.5       ]\n",
      "[[-0.85749293 -0.51449576]\n",
      " [ 0.51449576 -0.85749293]]\n"
     ]
    }
   ],
   "source": [
    "#Finding out eigrn values and eigen vector of above covariance matrix\n",
    "Eval,Evec=eig(cov_mat)\n",
    "print(Eval)\n",
    "print(Evec)"
   ]
  },
  {
   "cell_type": "code",
   "execution_count": 62,
   "id": "8462e1c3-4051-4d9c-b648-80b760c9d881",
   "metadata": {},
   "outputs": [
    {
     "name": "stdout",
     "output_type": "stream",
     "text": [
      "[[-9.71825316e-01  2.91547595e+00]\n",
      " [ 1.94365063e+00  1.11022302e-16]\n",
      " [-9.71825316e-01 -2.91547595e+00]]\n"
     ]
    }
   ],
   "source": [
    "#Get original Data Projected to principal components as new axis\n",
    "Projected_Data=Evec.T.dot(Scaled_Data.T)\n",
    "print(Projected_Data.T)"
   ]
  },
  {
   "cell_type": "code",
   "execution_count": 64,
   "id": "79165b73-a9fb-4c81-a71b-7056f274ae28",
   "metadata": {},
   "outputs": [
    {
     "data": {
      "text/plain": [
       "array([[-2.91547595e+00,  9.71825316e-01],\n",
       "       [ 6.86635020e-16, -1.94365063e+00],\n",
       "       [ 2.91547595e+00,  9.71825316e-01]])"
      ]
     },
     "execution_count": 64,
     "metadata": {},
     "output_type": "execute_result"
    }
   ],
   "source": [
    "from sklearn.decomposition import PCA\n",
    "pca=PCA(n_components=2)\n",
    "pca.fit_transform(Marks)"
   ]
  },
  {
   "cell_type": "markdown",
   "id": "29b11c79-d6ce-40c9-bf41-f17410673b69",
   "metadata": {},
   "source": [
    "------------------------------------------------------------------PCA ON DATASET---------------------------------------------------------------"
   ]
  },
  {
   "cell_type": "code",
   "execution_count": 1,
   "id": "6dbc4ed5-f0b5-41c2-9b1e-4c393d0bc7cc",
   "metadata": {},
   "outputs": [
    {
     "data": {
      "text/html": [
       "<div>\n",
       "<style scoped>\n",
       "    .dataframe tbody tr th:only-of-type {\n",
       "        vertical-align: middle;\n",
       "    }\n",
       "\n",
       "    .dataframe tbody tr th {\n",
       "        vertical-align: top;\n",
       "    }\n",
       "\n",
       "    .dataframe thead th {\n",
       "        text-align: right;\n",
       "    }\n",
       "</style>\n",
       "<table border=\"1\" class=\"dataframe\">\n",
       "  <thead>\n",
       "    <tr style=\"text-align: right;\">\n",
       "      <th></th>\n",
       "      <th>Univ</th>\n",
       "      <th>State</th>\n",
       "      <th>SAT</th>\n",
       "      <th>Top10</th>\n",
       "      <th>Accept</th>\n",
       "      <th>SFRatio</th>\n",
       "      <th>Expenses</th>\n",
       "      <th>GradRate</th>\n",
       "    </tr>\n",
       "  </thead>\n",
       "  <tbody>\n",
       "    <tr>\n",
       "      <th>0</th>\n",
       "      <td>Brown</td>\n",
       "      <td>RI</td>\n",
       "      <td>1310</td>\n",
       "      <td>89</td>\n",
       "      <td>22</td>\n",
       "      <td>13</td>\n",
       "      <td>22704</td>\n",
       "      <td>94</td>\n",
       "    </tr>\n",
       "    <tr>\n",
       "      <th>1</th>\n",
       "      <td>CalTech</td>\n",
       "      <td>CA</td>\n",
       "      <td>1415</td>\n",
       "      <td>100</td>\n",
       "      <td>25</td>\n",
       "      <td>6</td>\n",
       "      <td>63575</td>\n",
       "      <td>81</td>\n",
       "    </tr>\n",
       "    <tr>\n",
       "      <th>2</th>\n",
       "      <td>CMU</td>\n",
       "      <td>PA</td>\n",
       "      <td>1260</td>\n",
       "      <td>62</td>\n",
       "      <td>59</td>\n",
       "      <td>9</td>\n",
       "      <td>25026</td>\n",
       "      <td>72</td>\n",
       "    </tr>\n",
       "    <tr>\n",
       "      <th>3</th>\n",
       "      <td>Columbia</td>\n",
       "      <td>NY</td>\n",
       "      <td>1310</td>\n",
       "      <td>76</td>\n",
       "      <td>24</td>\n",
       "      <td>12</td>\n",
       "      <td>31510</td>\n",
       "      <td>88</td>\n",
       "    </tr>\n",
       "    <tr>\n",
       "      <th>4</th>\n",
       "      <td>Cornell</td>\n",
       "      <td>NY</td>\n",
       "      <td>1280</td>\n",
       "      <td>83</td>\n",
       "      <td>33</td>\n",
       "      <td>13</td>\n",
       "      <td>21864</td>\n",
       "      <td>90</td>\n",
       "    </tr>\n",
       "  </tbody>\n",
       "</table>\n",
       "</div>"
      ],
      "text/plain": [
       "       Univ State   SAT  Top10  Accept  SFRatio  Expenses  GradRate\n",
       "0     Brown    RI  1310     89      22       13     22704        94\n",
       "1   CalTech    CA  1415    100      25        6     63575        81\n",
       "2       CMU    PA  1260     62      59        9     25026        72\n",
       "3  Columbia    NY  1310     76      24       12     31510        88\n",
       "4   Cornell    NY  1280     83      33       13     21864        90"
      ]
     },
     "execution_count": 1,
     "metadata": {},
     "output_type": "execute_result"
    }
   ],
   "source": [
    "import pandas as pd\n",
    "import numpy as np\n",
    "Univ1=pd.read_excel(\"University_Clustering.xlsx\")\n",
    "Univ1.head()"
   ]
  },
  {
   "cell_type": "code",
   "execution_count": 3,
   "id": "5254d368-0d96-4585-9d70-e7c789513c26",
   "metadata": {},
   "outputs": [
    {
     "data": {
      "text/html": [
       "<div>\n",
       "<style scoped>\n",
       "    .dataframe tbody tr th:only-of-type {\n",
       "        vertical-align: middle;\n",
       "    }\n",
       "\n",
       "    .dataframe tbody tr th {\n",
       "        vertical-align: top;\n",
       "    }\n",
       "\n",
       "    .dataframe thead th {\n",
       "        text-align: right;\n",
       "    }\n",
       "</style>\n",
       "<table border=\"1\" class=\"dataframe\">\n",
       "  <thead>\n",
       "    <tr style=\"text-align: right;\">\n",
       "      <th></th>\n",
       "      <th>SAT</th>\n",
       "      <th>Top10</th>\n",
       "      <th>Accept</th>\n",
       "      <th>SFRatio</th>\n",
       "      <th>Expenses</th>\n",
       "      <th>GradRate</th>\n",
       "    </tr>\n",
       "  </thead>\n",
       "  <tbody>\n",
       "    <tr>\n",
       "      <th>count</th>\n",
       "      <td>25.000000</td>\n",
       "      <td>25.000000</td>\n",
       "      <td>25.000000</td>\n",
       "      <td>25.00000</td>\n",
       "      <td>25.000000</td>\n",
       "      <td>25.000000</td>\n",
       "    </tr>\n",
       "    <tr>\n",
       "      <th>mean</th>\n",
       "      <td>1266.440000</td>\n",
       "      <td>76.480000</td>\n",
       "      <td>39.200000</td>\n",
       "      <td>12.72000</td>\n",
       "      <td>27388.000000</td>\n",
       "      <td>86.720000</td>\n",
       "    </tr>\n",
       "    <tr>\n",
       "      <th>std</th>\n",
       "      <td>108.359771</td>\n",
       "      <td>19.433905</td>\n",
       "      <td>19.727308</td>\n",
       "      <td>4.06735</td>\n",
       "      <td>14424.883165</td>\n",
       "      <td>9.057778</td>\n",
       "    </tr>\n",
       "    <tr>\n",
       "      <th>min</th>\n",
       "      <td>1005.000000</td>\n",
       "      <td>28.000000</td>\n",
       "      <td>14.000000</td>\n",
       "      <td>6.00000</td>\n",
       "      <td>8704.000000</td>\n",
       "      <td>67.000000</td>\n",
       "    </tr>\n",
       "    <tr>\n",
       "      <th>25%</th>\n",
       "      <td>1240.000000</td>\n",
       "      <td>74.000000</td>\n",
       "      <td>24.000000</td>\n",
       "      <td>11.00000</td>\n",
       "      <td>15140.000000</td>\n",
       "      <td>81.000000</td>\n",
       "    </tr>\n",
       "    <tr>\n",
       "      <th>50%</th>\n",
       "      <td>1285.000000</td>\n",
       "      <td>81.000000</td>\n",
       "      <td>36.000000</td>\n",
       "      <td>12.00000</td>\n",
       "      <td>27553.000000</td>\n",
       "      <td>90.000000</td>\n",
       "    </tr>\n",
       "    <tr>\n",
       "      <th>75%</th>\n",
       "      <td>1340.000000</td>\n",
       "      <td>90.000000</td>\n",
       "      <td>50.000000</td>\n",
       "      <td>14.00000</td>\n",
       "      <td>34870.000000</td>\n",
       "      <td>94.000000</td>\n",
       "    </tr>\n",
       "    <tr>\n",
       "      <th>max</th>\n",
       "      <td>1415.000000</td>\n",
       "      <td>100.000000</td>\n",
       "      <td>90.000000</td>\n",
       "      <td>25.00000</td>\n",
       "      <td>63575.000000</td>\n",
       "      <td>97.000000</td>\n",
       "    </tr>\n",
       "  </tbody>\n",
       "</table>\n",
       "</div>"
      ],
      "text/plain": [
       "               SAT       Top10     Accept   SFRatio      Expenses   GradRate\n",
       "count    25.000000   25.000000  25.000000  25.00000     25.000000  25.000000\n",
       "mean   1266.440000   76.480000  39.200000  12.72000  27388.000000  86.720000\n",
       "std     108.359771   19.433905  19.727308   4.06735  14424.883165   9.057778\n",
       "min    1005.000000   28.000000  14.000000   6.00000   8704.000000  67.000000\n",
       "25%    1240.000000   74.000000  24.000000  11.00000  15140.000000  81.000000\n",
       "50%    1285.000000   81.000000  36.000000  12.00000  27553.000000  90.000000\n",
       "75%    1340.000000   90.000000  50.000000  14.00000  34870.000000  94.000000\n",
       "max    1415.000000  100.000000  90.000000  25.00000  63575.000000  97.000000"
      ]
     },
     "execution_count": 3,
     "metadata": {},
     "output_type": "execute_result"
    }
   ],
   "source": [
    "Univ1.describe()"
   ]
  },
  {
   "cell_type": "code",
   "execution_count": 5,
   "id": "b40a2ffc-dd8a-4d97-a96f-6aa66df809b0",
   "metadata": {},
   "outputs": [
    {
     "name": "stdout",
     "output_type": "stream",
     "text": [
      "<class 'pandas.core.frame.DataFrame'>\n",
      "RangeIndex: 25 entries, 0 to 24\n",
      "Data columns (total 8 columns):\n",
      " #   Column    Non-Null Count  Dtype \n",
      "---  ------    --------------  ----- \n",
      " 0   Univ      25 non-null     object\n",
      " 1   State     25 non-null     object\n",
      " 2   SAT       25 non-null     int64 \n",
      " 3   Top10     25 non-null     int64 \n",
      " 4   Accept    25 non-null     int64 \n",
      " 5   SFRatio   25 non-null     int64 \n",
      " 6   Expenses  25 non-null     int64 \n",
      " 7   GradRate  25 non-null     int64 \n",
      "dtypes: int64(6), object(2)\n",
      "memory usage: 1.7+ KB\n"
     ]
    }
   ],
   "source": [
    "Univ1.info()"
   ]
  },
  {
   "cell_type": "code",
   "execution_count": 7,
   "id": "40568192-c617-4afa-b0df-6cdfce03f4a7",
   "metadata": {},
   "outputs": [],
   "source": [
    "univ=Univ1.drop([\"State\"],axis=1)"
   ]
  },
  {
   "cell_type": "code",
   "execution_count": 9,
   "id": "66c9f370-7af0-4b37-a5af-9a54062b24f7",
   "metadata": {},
   "outputs": [],
   "source": [
    "from sklearn.preprocessing import scale\n",
    "from sklearn.decomposition import PCA\n",
    "from sklearn.preprocessing import scale"
   ]
  },
  {
   "cell_type": "code",
   "execution_count": 10,
   "id": "fbcd362b-cd0b-48ce-88f0-56393bd34920",
   "metadata": {},
   "outputs": [
    {
     "name": "stderr",
     "output_type": "stream",
     "text": [
      "C:\\Users\\ADMIN\\AppData\\Local\\Temp\\ipykernel_14364\\2202206332.py:1: UserWarning: Pandas doesn't allow columns to be created via a new attribute name - see https://pandas.pydata.org/pandas-docs/stable/indexing.html#attribute-access\n",
      "  univ.data=univ.iloc[:,1:]\n"
     ]
    }
   ],
   "source": [
    "univ.data=univ.iloc[:,1:]"
   ]
  },
  {
   "cell_type": "code",
   "execution_count": 11,
   "id": "7ca43b8f-c5ed-4375-b4be-2b34f749795e",
   "metadata": {},
   "outputs": [
    {
     "data": {
      "text/plain": [
       "array([[ 0.41028362,  0.6575195 , -0.88986682,  0.07026045, -0.33141256,\n",
       "         0.82030265],\n",
       "       [ 1.39925928,  1.23521235, -0.73465749, -1.68625071,  2.56038138,\n",
       "        -0.64452351],\n",
       "       [-0.06065717, -0.76045386,  1.02438157, -0.93346022, -0.16712136,\n",
       "        -1.65863393],\n",
       "       [ 0.41028362, -0.02520842, -0.78639393, -0.18066972,  0.29164871,\n",
       "         0.14422904],\n",
       "       [ 0.12771914,  0.34241431, -0.32076595,  0.07026045, -0.39084607,\n",
       "         0.36958691],\n",
       "       [ 0.69284809,  0.6575195 , -0.83813038, -0.68253005,  0.33778044,\n",
       "         0.93298158],\n",
       "       [ 0.4573777 ,  0.71003703, -0.47597528, -0.18066972,  0.29695528,\n",
       "         0.93298158],\n",
       "       [-0.10775125, -0.13024348, -0.78639393, -0.18066972, -0.51381683,\n",
       "         0.59494478],\n",
       "       [ 1.25797704,  0.76255456, -1.30375836, -0.43159988,  0.85874344,\n",
       "         1.15833946],\n",
       "       [ 0.36318954, -0.07772595,  0.24833493, -1.43532055,  2.21481798,\n",
       "         0.0315501 ],\n",
       "       [ 1.06960072,  0.92010716, -0.47597528, -0.68253005,  0.52938275,\n",
       "         0.48226584],\n",
       "       [-0.06065717,  0.44744937, -0.01034729, -0.43159988,  0.04698077,\n",
       "         0.25690797],\n",
       "       [-0.10775125,  0.23737924,  0.14486204,  0.07026045, -0.86787073,\n",
       "         0.82030265],\n",
       "       [-1.7466252 , -2.02087462,  0.76569936,  1.32491127, -1.21718409,\n",
       "        -0.75720245],\n",
       "       [ 1.02250664,  0.76255456, -1.30375836, -1.18439038,  0.20037583,\n",
       "         0.93298158],\n",
       "       [-2.46245521, -2.54604994,  2.6282113 ,  1.57584144, -1.29635802,\n",
       "        -1.99667073],\n",
       "       [ 0.88122441,  0.71003703, -0.9933397 , -0.18066972,  0.64117435,\n",
       "         0.70762371],\n",
       "       [-1.8031381 , -1.44318177,  1.43827311,  3.08142243, -1.32197103,\n",
       "        -2.22202861],\n",
       "       [-0.24903349,  0.97262469,  0.04138915,  1.07398111, -0.86659715,\n",
       "        -0.98256032],\n",
       "       [ 0.2219073 , -0.07772595,  0.55875358,  0.07026045,  0.77772991,\n",
       "         0.0315501 ],\n",
       "       [-0.81416244, -0.60290126,  1.49000956,  0.82305094, -0.84324827,\n",
       "        -0.19380777],\n",
       "       [ 0.17481322,  0.18486171, -0.16555662, -0.43159988,  0.01167444,\n",
       "         0.36958691],\n",
       "       [-0.39031573,  0.02730912,  0.24833493,  0.32119061, -0.99331788,\n",
       "         0.59494478],\n",
       "       [-1.70894994, -1.91583956,  1.541746  ,  0.57212078, -1.09888311,\n",
       "        -1.77131286],\n",
       "       [ 1.02250664,  0.97262469, -1.04507615, -0.43159988,  1.14098185,\n",
       "         1.04566052]])"
      ]
     },
     "execution_count": 11,
     "metadata": {},
     "output_type": "execute_result"
    }
   ],
   "source": [
    "#Normalizing the data\n",
    "uni_normal=scale(univ.data)\n",
    "uni_normal\n"
   ]
  },
  {
   "cell_type": "code",
   "execution_count": 35,
   "id": "42799083-22ab-49a0-af6b-7e4132bc0cba",
   "metadata": {},
   "outputs": [
    {
     "data": {
      "text/plain": [
       "array([0.76868084, 0.13113602, 0.04776031, 0.02729668, 0.0207177 ,\n",
       "       0.00440844])"
      ]
     },
     "execution_count": 35,
     "metadata": {},
     "output_type": "execute_result"
    }
   ],
   "source": [
    "pca=PCA(n_components=6)\n",
    "pca_values=pca.fit_transform(uni_normal)\n",
    "var=pca.explained_variance_ratio_\n",
    "var\n"
   ]
  },
  {
   "cell_type": "code",
   "execution_count": 31,
   "id": "ede15111-eac1-4833-a286-47e629c99db3",
   "metadata": {},
   "outputs": [],
   "source": [
    "after_pca=pd.DataFrame(pca_values)"
   ]
  },
  {
   "cell_type": "code",
   "execution_count": 33,
   "id": "50457af0-1b6a-4501-9203-06067982920e",
   "metadata": {},
   "outputs": [
    {
     "data": {
      "text/html": [
       "<div>\n",
       "<style scoped>\n",
       "    .dataframe tbody tr th:only-of-type {\n",
       "        vertical-align: middle;\n",
       "    }\n",
       "\n",
       "    .dataframe tbody tr th {\n",
       "        vertical-align: top;\n",
       "    }\n",
       "\n",
       "    .dataframe thead th {\n",
       "        text-align: right;\n",
       "    }\n",
       "</style>\n",
       "<table border=\"1\" class=\"dataframe\">\n",
       "  <thead>\n",
       "    <tr style=\"text-align: right;\">\n",
       "      <th></th>\n",
       "      <th>0</th>\n",
       "      <th>1</th>\n",
       "      <th>2</th>\n",
       "      <th>3</th>\n",
       "      <th>4</th>\n",
       "      <th>5</th>\n",
       "    </tr>\n",
       "  </thead>\n",
       "  <tbody>\n",
       "    <tr>\n",
       "      <th>0</th>\n",
       "      <td>1.009874</td>\n",
       "      <td>-1.064310</td>\n",
       "      <td>0.081066</td>\n",
       "      <td>-0.056951</td>\n",
       "      <td>-0.128754</td>\n",
       "      <td>-0.034650</td>\n",
       "    </tr>\n",
       "    <tr>\n",
       "      <th>1</th>\n",
       "      <td>2.822238</td>\n",
       "      <td>2.259045</td>\n",
       "      <td>0.836829</td>\n",
       "      <td>-0.143845</td>\n",
       "      <td>-0.125962</td>\n",
       "      <td>-0.180703</td>\n",
       "    </tr>\n",
       "    <tr>\n",
       "      <th>2</th>\n",
       "      <td>-1.112466</td>\n",
       "      <td>1.631209</td>\n",
       "      <td>-0.266787</td>\n",
       "      <td>-1.075075</td>\n",
       "      <td>-0.191814</td>\n",
       "      <td>0.345679</td>\n",
       "    </tr>\n",
       "    <tr>\n",
       "      <th>3</th>\n",
       "      <td>0.741741</td>\n",
       "      <td>-0.042187</td>\n",
       "      <td>0.060501</td>\n",
       "      <td>0.157208</td>\n",
       "      <td>-0.577611</td>\n",
       "      <td>0.109163</td>\n",
       "    </tr>\n",
       "    <tr>\n",
       "      <th>4</th>\n",
       "      <td>0.311912</td>\n",
       "      <td>-0.635244</td>\n",
       "      <td>0.010241</td>\n",
       "      <td>-0.171364</td>\n",
       "      <td>0.012726</td>\n",
       "      <td>-0.016921</td>\n",
       "    </tr>\n",
       "    <tr>\n",
       "      <th>5</th>\n",
       "      <td>1.696691</td>\n",
       "      <td>-0.344363</td>\n",
       "      <td>-0.253408</td>\n",
       "      <td>-0.012564</td>\n",
       "      <td>-0.052661</td>\n",
       "      <td>-0.027166</td>\n",
       "    </tr>\n",
       "    <tr>\n",
       "      <th>6</th>\n",
       "      <td>1.246821</td>\n",
       "      <td>-0.490984</td>\n",
       "      <td>-0.032094</td>\n",
       "      <td>0.205644</td>\n",
       "      <td>0.293505</td>\n",
       "      <td>-0.078012</td>\n",
       "    </tr>\n",
       "    <tr>\n",
       "      <th>7</th>\n",
       "      <td>0.338750</td>\n",
       "      <td>-0.785169</td>\n",
       "      <td>-0.493585</td>\n",
       "      <td>-0.039856</td>\n",
       "      <td>-0.544979</td>\n",
       "      <td>-0.155372</td>\n",
       "    </tr>\n",
       "    <tr>\n",
       "      <th>8</th>\n",
       "      <td>2.374150</td>\n",
       "      <td>-0.386539</td>\n",
       "      <td>0.116098</td>\n",
       "      <td>0.453366</td>\n",
       "      <td>-0.230108</td>\n",
       "      <td>0.266984</td>\n",
       "    </tr>\n",
       "    <tr>\n",
       "      <th>9</th>\n",
       "      <td>1.403277</td>\n",
       "      <td>2.119515</td>\n",
       "      <td>-0.442827</td>\n",
       "      <td>0.632543</td>\n",
       "      <td>0.230054</td>\n",
       "      <td>-0.235615</td>\n",
       "    </tr>\n",
       "    <tr>\n",
       "      <th>10</th>\n",
       "      <td>1.726103</td>\n",
       "      <td>0.088237</td>\n",
       "      <td>0.170404</td>\n",
       "      <td>-0.260902</td>\n",
       "      <td>0.233318</td>\n",
       "      <td>0.238968</td>\n",
       "    </tr>\n",
       "    <tr>\n",
       "      <th>11</th>\n",
       "      <td>0.450857</td>\n",
       "      <td>-0.011133</td>\n",
       "      <td>-0.175746</td>\n",
       "      <td>-0.236166</td>\n",
       "      <td>0.263251</td>\n",
       "      <td>-0.314844</td>\n",
       "    </tr>\n",
       "    <tr>\n",
       "      <th>12</th>\n",
       "      <td>-0.040238</td>\n",
       "      <td>-1.009204</td>\n",
       "      <td>-0.496517</td>\n",
       "      <td>-0.229299</td>\n",
       "      <td>0.448032</td>\n",
       "      <td>0.004939</td>\n",
       "    </tr>\n",
       "    <tr>\n",
       "      <th>13</th>\n",
       "      <td>-3.233730</td>\n",
       "      <td>-0.374580</td>\n",
       "      <td>-0.495373</td>\n",
       "      <td>0.521238</td>\n",
       "      <td>-0.639295</td>\n",
       "      <td>-0.090048</td>\n",
       "    </tr>\n",
       "    <tr>\n",
       "      <th>14</th>\n",
       "      <td>2.236265</td>\n",
       "      <td>-0.371793</td>\n",
       "      <td>-0.398994</td>\n",
       "      <td>-0.406966</td>\n",
       "      <td>-0.416761</td>\n",
       "      <td>0.050619</td>\n",
       "    </tr>\n",
       "    <tr>\n",
       "      <th>15</th>\n",
       "      <td>-5.172992</td>\n",
       "      <td>0.779915</td>\n",
       "      <td>-0.385912</td>\n",
       "      <td>0.232212</td>\n",
       "      <td>0.179287</td>\n",
       "      <td>-0.030905</td>\n",
       "    </tr>\n",
       "    <tr>\n",
       "      <th>16</th>\n",
       "      <td>1.699644</td>\n",
       "      <td>-0.305597</td>\n",
       "      <td>0.318508</td>\n",
       "      <td>0.297463</td>\n",
       "      <td>-0.163425</td>\n",
       "      <td>0.114423</td>\n",
       "    </tr>\n",
       "    <tr>\n",
       "      <th>17</th>\n",
       "      <td>-4.578146</td>\n",
       "      <td>-0.347591</td>\n",
       "      <td>1.499642</td>\n",
       "      <td>0.454252</td>\n",
       "      <td>-0.191142</td>\n",
       "      <td>0.104149</td>\n",
       "    </tr>\n",
       "    <tr>\n",
       "      <th>18</th>\n",
       "      <td>-0.822603</td>\n",
       "      <td>-0.698906</td>\n",
       "      <td>1.427811</td>\n",
       "      <td>-0.760779</td>\n",
       "      <td>0.184260</td>\n",
       "      <td>-0.251103</td>\n",
       "    </tr>\n",
       "    <tr>\n",
       "      <th>19</th>\n",
       "      <td>0.097762</td>\n",
       "      <td>0.650446</td>\n",
       "      <td>0.100508</td>\n",
       "      <td>0.500097</td>\n",
       "      <td>0.487218</td>\n",
       "      <td>0.219242</td>\n",
       "    </tr>\n",
       "    <tr>\n",
       "      <th>20</th>\n",
       "      <td>-1.963183</td>\n",
       "      <td>-0.224768</td>\n",
       "      <td>-0.255881</td>\n",
       "      <td>0.048474</td>\n",
       "      <td>0.822746</td>\n",
       "      <td>0.152247</td>\n",
       "    </tr>\n",
       "    <tr>\n",
       "      <th>21</th>\n",
       "      <td>0.542289</td>\n",
       "      <td>-0.079589</td>\n",
       "      <td>-0.305393</td>\n",
       "      <td>-0.131699</td>\n",
       "      <td>0.052740</td>\n",
       "      <td>-0.036726</td>\n",
       "    </tr>\n",
       "    <tr>\n",
       "      <th>22</th>\n",
       "      <td>-0.532221</td>\n",
       "      <td>-1.017167</td>\n",
       "      <td>-0.423716</td>\n",
       "      <td>-0.169536</td>\n",
       "      <td>0.357813</td>\n",
       "      <td>-0.066099</td>\n",
       "    </tr>\n",
       "    <tr>\n",
       "      <th>23</th>\n",
       "      <td>-3.548697</td>\n",
       "      <td>0.778462</td>\n",
       "      <td>-0.449363</td>\n",
       "      <td>-0.323679</td>\n",
       "      <td>-0.358333</td>\n",
       "      <td>-0.077456</td>\n",
       "    </tr>\n",
       "    <tr>\n",
       "      <th>24</th>\n",
       "      <td>2.305900</td>\n",
       "      <td>-0.117704</td>\n",
       "      <td>0.253989</td>\n",
       "      <td>0.516183</td>\n",
       "      <td>0.055894</td>\n",
       "      <td>-0.010793</td>\n",
       "    </tr>\n",
       "  </tbody>\n",
       "</table>\n",
       "</div>"
      ],
      "text/plain": [
       "           0         1         2         3         4         5\n",
       "0   1.009874 -1.064310  0.081066 -0.056951 -0.128754 -0.034650\n",
       "1   2.822238  2.259045  0.836829 -0.143845 -0.125962 -0.180703\n",
       "2  -1.112466  1.631209 -0.266787 -1.075075 -0.191814  0.345679\n",
       "3   0.741741 -0.042187  0.060501  0.157208 -0.577611  0.109163\n",
       "4   0.311912 -0.635244  0.010241 -0.171364  0.012726 -0.016921\n",
       "5   1.696691 -0.344363 -0.253408 -0.012564 -0.052661 -0.027166\n",
       "6   1.246821 -0.490984 -0.032094  0.205644  0.293505 -0.078012\n",
       "7   0.338750 -0.785169 -0.493585 -0.039856 -0.544979 -0.155372\n",
       "8   2.374150 -0.386539  0.116098  0.453366 -0.230108  0.266984\n",
       "9   1.403277  2.119515 -0.442827  0.632543  0.230054 -0.235615\n",
       "10  1.726103  0.088237  0.170404 -0.260902  0.233318  0.238968\n",
       "11  0.450857 -0.011133 -0.175746 -0.236166  0.263251 -0.314844\n",
       "12 -0.040238 -1.009204 -0.496517 -0.229299  0.448032  0.004939\n",
       "13 -3.233730 -0.374580 -0.495373  0.521238 -0.639295 -0.090048\n",
       "14  2.236265 -0.371793 -0.398994 -0.406966 -0.416761  0.050619\n",
       "15 -5.172992  0.779915 -0.385912  0.232212  0.179287 -0.030905\n",
       "16  1.699644 -0.305597  0.318508  0.297463 -0.163425  0.114423\n",
       "17 -4.578146 -0.347591  1.499642  0.454252 -0.191142  0.104149\n",
       "18 -0.822603 -0.698906  1.427811 -0.760779  0.184260 -0.251103\n",
       "19  0.097762  0.650446  0.100508  0.500097  0.487218  0.219242\n",
       "20 -1.963183 -0.224768 -0.255881  0.048474  0.822746  0.152247\n",
       "21  0.542289 -0.079589 -0.305393 -0.131699  0.052740 -0.036726\n",
       "22 -0.532221 -1.017167 -0.423716 -0.169536  0.357813 -0.066099\n",
       "23 -3.548697  0.778462 -0.449363 -0.323679 -0.358333 -0.077456\n",
       "24  2.305900 -0.117704  0.253989  0.516183  0.055894 -0.010793"
      ]
     },
     "execution_count": 33,
     "metadata": {},
     "output_type": "execute_result"
    }
   ],
   "source": [
    "after_pca"
   ]
  },
  {
   "cell_type": "code",
   "execution_count": 30,
   "id": "2689f68d-cac8-42fc-8fc5-545134461563",
   "metadata": {},
   "outputs": [
    {
     "data": {
      "text/plain": [
       "array([[ 0.45774863,  0.42714437, -0.42430805, -0.39064831,  0.36252316,\n",
       "         0.37940403],\n",
       "       [ 0.03968044, -0.19993153,  0.32089297, -0.43256441,  0.6344864 ,\n",
       "        -0.51555367],\n",
       "       [ 0.1870388 ,  0.49780855, -0.15627899,  0.60608085,  0.20474114,\n",
       "        -0.53247261],\n",
       "       [-0.13124033, -0.37489567, -0.0612872 ,  0.50739095,  0.62340055,\n",
       "         0.43863341],\n",
       "       [ 0.02064583,  0.4820162 ,  0.8010936 ,  0.07682369,  0.07254775,\n",
       "         0.33810965],\n",
       "       [ 0.8580547 , -0.39607492,  0.21693361,  0.1720479 , -0.17376309,\n",
       "        -0.00353754]])"
      ]
     },
     "execution_count": 30,
     "metadata": {},
     "output_type": "execute_result"
    }
   ],
   "source": [
    "#PCA weights\n",
    "pca.components_"
   ]
  },
  {
   "cell_type": "code",
   "execution_count": 34,
   "id": "fc55b1bd-2997-4c3c-92ef-1d4cab0ea464",
   "metadata": {},
   "outputs": [
    {
     "data": {
      "text/plain": [
       "array([ 0.45774863,  0.42714437, -0.42430805, -0.39064831,  0.36252316,\n",
       "        0.37940403])"
      ]
     },
     "execution_count": 34,
     "metadata": {},
     "output_type": "execute_result"
    }
   ],
   "source": [
    "pca.components_[0]"
   ]
  },
  {
   "cell_type": "code",
   "execution_count": 36,
   "id": "01d89e4c-5491-4054-a9eb-d42133bae6f9",
   "metadata": {},
   "outputs": [
    {
     "data": {
      "text/plain": [
       "array([ 76.87,  89.98,  94.76,  97.49,  99.56, 100.  ])"
      ]
     },
     "execution_count": 36,
     "metadata": {},
     "output_type": "execute_result"
    }
   ],
   "source": [
    "#To check the cumulative variance\n",
    "varl=np.cumsum(np.round(var,decimals=4)*100)\n",
    "varl"
   ]
  },
  {
   "cell_type": "markdown",
   "id": "46a08814-3784-4c3d-9bc5-c0c21052e238",
   "metadata": {},
   "source": [
    "----------------------------------------------------------Applying PCA in homeprices Dataset--------------------------------------------"
   ]
  },
  {
   "cell_type": "code",
   "execution_count": 22,
   "id": "4b9d2a3c-164b-4a23-b78a-239469845e18",
   "metadata": {},
   "outputs": [
    {
     "data": {
      "text/html": [
       "<div>\n",
       "<style scoped>\n",
       "    .dataframe tbody tr th:only-of-type {\n",
       "        vertical-align: middle;\n",
       "    }\n",
       "\n",
       "    .dataframe tbody tr th {\n",
       "        vertical-align: top;\n",
       "    }\n",
       "\n",
       "    .dataframe thead th {\n",
       "        text-align: right;\n",
       "    }\n",
       "</style>\n",
       "<table border=\"1\" class=\"dataframe\">\n",
       "  <thead>\n",
       "    <tr style=\"text-align: right;\">\n",
       "      <th></th>\n",
       "      <th>town</th>\n",
       "      <th>area</th>\n",
       "      <th>price</th>\n",
       "    </tr>\n",
       "  </thead>\n",
       "  <tbody>\n",
       "    <tr>\n",
       "      <th>0</th>\n",
       "      <td>monroe township</td>\n",
       "      <td>2600</td>\n",
       "      <td>550000</td>\n",
       "    </tr>\n",
       "    <tr>\n",
       "      <th>1</th>\n",
       "      <td>monroe township</td>\n",
       "      <td>3000</td>\n",
       "      <td>565000</td>\n",
       "    </tr>\n",
       "    <tr>\n",
       "      <th>2</th>\n",
       "      <td>monroe township</td>\n",
       "      <td>3200</td>\n",
       "      <td>610000</td>\n",
       "    </tr>\n",
       "    <tr>\n",
       "      <th>3</th>\n",
       "      <td>monroe township</td>\n",
       "      <td>3600</td>\n",
       "      <td>680000</td>\n",
       "    </tr>\n",
       "    <tr>\n",
       "      <th>4</th>\n",
       "      <td>monroe township</td>\n",
       "      <td>4000</td>\n",
       "      <td>725000</td>\n",
       "    </tr>\n",
       "  </tbody>\n",
       "</table>\n",
       "</div>"
      ],
      "text/plain": [
       "              town  area   price\n",
       "0  monroe township  2600  550000\n",
       "1  monroe township  3000  565000\n",
       "2  monroe township  3200  610000\n",
       "3  monroe township  3600  680000\n",
       "4  monroe township  4000  725000"
      ]
     },
     "execution_count": 22,
     "metadata": {},
     "output_type": "execute_result"
    }
   ],
   "source": [
    "import numpy as np\n",
    "import pandas as pd\n",
    "df=pd.read_csv(\"homeprices.csv\")\n",
    "df.head()"
   ]
  },
  {
   "cell_type": "code",
   "execution_count": 24,
   "id": "96aeeb42-540c-47f8-87c4-9441352e7131",
   "metadata": {},
   "outputs": [
    {
     "data": {
      "text/html": [
       "<div>\n",
       "<style scoped>\n",
       "    .dataframe tbody tr th:only-of-type {\n",
       "        vertical-align: middle;\n",
       "    }\n",
       "\n",
       "    .dataframe tbody tr th {\n",
       "        vertical-align: top;\n",
       "    }\n",
       "\n",
       "    .dataframe thead th {\n",
       "        text-align: right;\n",
       "    }\n",
       "</style>\n",
       "<table border=\"1\" class=\"dataframe\">\n",
       "  <thead>\n",
       "    <tr style=\"text-align: right;\">\n",
       "      <th></th>\n",
       "      <th>area</th>\n",
       "      <th>price</th>\n",
       "    </tr>\n",
       "  </thead>\n",
       "  <tbody>\n",
       "    <tr>\n",
       "      <th>count</th>\n",
       "      <td>13.000000</td>\n",
       "      <td>13.000000</td>\n",
       "    </tr>\n",
       "    <tr>\n",
       "      <th>mean</th>\n",
       "      <td>3146.153846</td>\n",
       "      <td>629230.769231</td>\n",
       "    </tr>\n",
       "    <tr>\n",
       "      <th>std</th>\n",
       "      <td>453.900475</td>\n",
       "      <td>57621.109914</td>\n",
       "    </tr>\n",
       "    <tr>\n",
       "      <th>min</th>\n",
       "      <td>2600.000000</td>\n",
       "      <td>550000.000000</td>\n",
       "    </tr>\n",
       "    <tr>\n",
       "      <th>25%</th>\n",
       "      <td>2800.000000</td>\n",
       "      <td>585000.000000</td>\n",
       "    </tr>\n",
       "    <tr>\n",
       "      <th>50%</th>\n",
       "      <td>3100.000000</td>\n",
       "      <td>615000.000000</td>\n",
       "    </tr>\n",
       "    <tr>\n",
       "      <th>75%</th>\n",
       "      <td>3600.000000</td>\n",
       "      <td>680000.000000</td>\n",
       "    </tr>\n",
       "    <tr>\n",
       "      <th>max</th>\n",
       "      <td>4000.000000</td>\n",
       "      <td>725000.000000</td>\n",
       "    </tr>\n",
       "  </tbody>\n",
       "</table>\n",
       "</div>"
      ],
      "text/plain": [
       "              area          price\n",
       "count    13.000000      13.000000\n",
       "mean   3146.153846  629230.769231\n",
       "std     453.900475   57621.109914\n",
       "min    2600.000000  550000.000000\n",
       "25%    2800.000000  585000.000000\n",
       "50%    3100.000000  615000.000000\n",
       "75%    3600.000000  680000.000000\n",
       "max    4000.000000  725000.000000"
      ]
     },
     "execution_count": 24,
     "metadata": {},
     "output_type": "execute_result"
    }
   ],
   "source": [
    "df.describe()"
   ]
  },
  {
   "cell_type": "code",
   "execution_count": 28,
   "id": "5a75223c-a270-4018-8ea9-93547e6df947",
   "metadata": {},
   "outputs": [
    {
     "name": "stdout",
     "output_type": "stream",
     "text": [
      "<class 'pandas.core.frame.DataFrame'>\n",
      "RangeIndex: 13 entries, 0 to 12\n",
      "Data columns (total 3 columns):\n",
      " #   Column  Non-Null Count  Dtype \n",
      "---  ------  --------------  ----- \n",
      " 0   town    13 non-null     object\n",
      " 1   area    13 non-null     int64 \n",
      " 2   price   13 non-null     int64 \n",
      "dtypes: int64(2), object(1)\n",
      "memory usage: 444.0+ bytes\n"
     ]
    }
   ],
   "source": [
    "df.info() #from here we understand Index, Non null count , columns , Datatype "
   ]
  },
  {
   "cell_type": "code",
   "execution_count": 30,
   "id": "c0fa942f-fbeb-4e44-b2fa-ac089dc65fd2",
   "metadata": {},
   "outputs": [
    {
     "data": {
      "text/html": [
       "<div>\n",
       "<style scoped>\n",
       "    .dataframe tbody tr th:only-of-type {\n",
       "        vertical-align: middle;\n",
       "    }\n",
       "\n",
       "    .dataframe tbody tr th {\n",
       "        vertical-align: top;\n",
       "    }\n",
       "\n",
       "    .dataframe thead th {\n",
       "        text-align: right;\n",
       "    }\n",
       "</style>\n",
       "<table border=\"1\" class=\"dataframe\">\n",
       "  <thead>\n",
       "    <tr style=\"text-align: right;\">\n",
       "      <th></th>\n",
       "      <th>area</th>\n",
       "      <th>price</th>\n",
       "    </tr>\n",
       "  </thead>\n",
       "  <tbody>\n",
       "    <tr>\n",
       "      <th>0</th>\n",
       "      <td>2600</td>\n",
       "      <td>550000</td>\n",
       "    </tr>\n",
       "    <tr>\n",
       "      <th>1</th>\n",
       "      <td>3000</td>\n",
       "      <td>565000</td>\n",
       "    </tr>\n",
       "    <tr>\n",
       "      <th>2</th>\n",
       "      <td>3200</td>\n",
       "      <td>610000</td>\n",
       "    </tr>\n",
       "    <tr>\n",
       "      <th>3</th>\n",
       "      <td>3600</td>\n",
       "      <td>680000</td>\n",
       "    </tr>\n",
       "    <tr>\n",
       "      <th>4</th>\n",
       "      <td>4000</td>\n",
       "      <td>725000</td>\n",
       "    </tr>\n",
       "  </tbody>\n",
       "</table>\n",
       "</div>"
      ],
      "text/plain": [
       "   area   price\n",
       "0  2600  550000\n",
       "1  3000  565000\n",
       "2  3200  610000\n",
       "3  3600  680000\n",
       "4  4000  725000"
      ]
     },
     "execution_count": 30,
     "metadata": {},
     "output_type": "execute_result"
    }
   ],
   "source": [
    "home=df.drop([\"town\"],axis=1)\n",
    "home.head()"
   ]
  },
  {
   "cell_type": "code",
   "execution_count": 34,
   "id": "574a8bed-c6b2-40d7-8aaa-1d99c13c111f",
   "metadata": {},
   "outputs": [],
   "source": [
    "from sklearn.preprocessing import scale\n",
    "from sklearn.decomposition import PCA"
   ]
  },
  {
   "cell_type": "code",
   "execution_count": 36,
   "id": "475bb74f-d783-4608-be6a-6fc49267b9f5",
   "metadata": {},
   "outputs": [
    {
     "data": {
      "text/plain": [
       "array([[-1.25237795, -1.43117686],\n",
       "       [-0.33514339, -1.1602259 ],\n",
       "       [ 0.12347388, -0.34737302],\n",
       "       [ 1.04070844,  0.91706478],\n",
       "       [ 1.95794299,  1.72991766],\n",
       "       [-1.25237795, -0.79895796],\n",
       "       [-0.79376067, -0.25705604],\n",
       "       [ 0.35278252,  0.37516287],\n",
       "       [ 1.04070844,  1.4589667 ],\n",
       "       [-1.25237795, -0.97959193],\n",
       "       [-0.56445203, -0.528007  ],\n",
       "       [-0.10583476, -0.16673905],\n",
       "       [ 1.04070844,  1.18801574]])"
      ]
     },
     "execution_count": 36,
     "metadata": {},
     "output_type": "execute_result"
    }
   ],
   "source": [
    "#now scaling the data \n",
    "home_scaled=scale(home)\n",
    "home_scaled"
   ]
  },
  {
   "cell_type": "code",
   "execution_count": 40,
   "id": "a9755ec0-db2d-452d-b5f4-3ae2cb898799",
   "metadata": {},
   "outputs": [
    {
     "data": {
      "text/plain": [
       "array([0.96592419, 0.03407581])"
      ]
     },
     "execution_count": 40,
     "metadata": {},
     "output_type": "execute_result"
    }
   ],
   "source": [
    "#Now applying PCA\n",
    "pca=PCA(n_components=2)\n",
    "pca_vlaues=pca.fit_transform(home_scaled)\n",
    "var=pca.explained_variance_ratio_\n",
    "var"
   ]
  },
  {
   "cell_type": "code",
   "execution_count": 44,
   "id": "5807538c-adf4-45e4-9462-b53c1d1fad56",
   "metadata": {},
   "outputs": [
    {
     "data": {
      "text/plain": [
       "array([[ 0.70710678,  0.70710678],\n",
       "       [ 0.70710678, -0.70710678]])"
      ]
     },
     "execution_count": 44,
     "metadata": {},
     "output_type": "execute_result"
    }
   ],
   "source": [
    "pca.components_"
   ]
  },
  {
   "cell_type": "code",
   "execution_count": 46,
   "id": "f12fb2b1-f954-4d34-aa32-288a3131e3a6",
   "metadata": {},
   "outputs": [
    {
     "data": {
      "text/plain": [
       "array([0.70710678, 0.70710678])"
      ]
     },
     "execution_count": 46,
     "metadata": {},
     "output_type": "execute_result"
    }
   ],
   "source": [
    "pca.components_[0]"
   ]
  },
  {
   "cell_type": "code",
   "execution_count": 48,
   "id": "795859d0-b396-4f7d-a0db-0dd23372fdc8",
   "metadata": {},
   "outputs": [
    {
     "data": {
      "text/plain": [
       "array([ 96.59, 100.  ])"
      ]
     },
     "execution_count": 48,
     "metadata": {},
     "output_type": "execute_result"
    }
   ],
   "source": [
    "#To check the cumulative variance\n",
    "varl=np.cumsum(np.round(var,decimals=4)*100)\n",
    "varl"
   ]
  },
  {
   "cell_type": "code",
   "execution_count": null,
   "id": "d35a75f5-31ec-4d42-be97-86a7c443be38",
   "metadata": {},
   "outputs": [],
   "source": []
  }
 ],
 "metadata": {
  "kernelspec": {
   "display_name": "Python 3 (ipykernel)",
   "language": "python",
   "name": "python3"
  },
  "language_info": {
   "codemirror_mode": {
    "name": "ipython",
    "version": 3
   },
   "file_extension": ".py",
   "mimetype": "text/x-python",
   "name": "python",
   "nbconvert_exporter": "python",
   "pygments_lexer": "ipython3",
   "version": "3.12.3"
  }
 },
 "nbformat": 4,
 "nbformat_minor": 5
}
