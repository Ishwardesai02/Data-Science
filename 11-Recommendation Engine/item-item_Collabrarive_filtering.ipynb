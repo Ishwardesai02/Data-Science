{
 "cells": [
  {
   "cell_type": "code",
   "execution_count": 3,
   "id": "78e5e7da-9010-4b88-b850-1d03c0a3dc65",
   "metadata": {},
   "outputs": [],
   "source": [
    "import pandas as pd\n",
    "import numpy as np\n",
    "from sklearn.metrics.pairwise import cosine_similarity\n",
    "from sklearn.preprocessing import MinMaxScaler"
   ]
  },
  {
   "cell_type": "code",
   "execution_count": 11,
   "id": "27c6274e-2daf-494e-bbbf-c993c667d55e",
   "metadata": {},
   "outputs": [
    {
     "data": {
      "text/html": [
       "<div>\n",
       "<style scoped>\n",
       "    .dataframe tbody tr th:only-of-type {\n",
       "        vertical-align: middle;\n",
       "    }\n",
       "\n",
       "    .dataframe tbody tr th {\n",
       "        vertical-align: top;\n",
       "    }\n",
       "\n",
       "    .dataframe thead th {\n",
       "        text-align: right;\n",
       "    }\n",
       "</style>\n",
       "<table border=\"1\" class=\"dataframe\">\n",
       "  <thead>\n",
       "    <tr style=\"text-align: right;\">\n",
       "      <th></th>\n",
       "      <th>Id</th>\n",
       "      <th>Titles</th>\n",
       "      <th>Category</th>\n",
       "      <th>Reviews</th>\n",
       "    </tr>\n",
       "  </thead>\n",
       "  <tbody>\n",
       "    <tr>\n",
       "      <th>0</th>\n",
       "      <td>6973</td>\n",
       "      <td>Toy Story (1995)</td>\n",
       "      <td>Drama, Romance, School, Supernatural</td>\n",
       "      <td>-8.98</td>\n",
       "    </tr>\n",
       "    <tr>\n",
       "      <th>1</th>\n",
       "      <td>6778</td>\n",
       "      <td>Jumanji (1995)</td>\n",
       "      <td>Action, Adventure, Drama, Fantasy, Magic, Mili...</td>\n",
       "      <td>8.88</td>\n",
       "    </tr>\n",
       "    <tr>\n",
       "      <th>2</th>\n",
       "      <td>9702</td>\n",
       "      <td>Grumpier Old Men (1995)</td>\n",
       "      <td>Action, Comedy, Historical, Parody, Samurai, S...</td>\n",
       "      <td>99.00</td>\n",
       "    </tr>\n",
       "    <tr>\n",
       "      <th>3</th>\n",
       "      <td>6769</td>\n",
       "      <td>Waiting to Exhale (1995)</td>\n",
       "      <td>Sci-Fi, Thriller</td>\n",
       "      <td>99.00</td>\n",
       "    </tr>\n",
       "    <tr>\n",
       "      <th>4</th>\n",
       "      <td>1123</td>\n",
       "      <td>Father of the Bride Part II (1995)</td>\n",
       "      <td>Action, Comedy, Historical, Parody, Samurai, S...</td>\n",
       "      <td>-0.44</td>\n",
       "    </tr>\n",
       "  </tbody>\n",
       "</table>\n",
       "</div>"
      ],
      "text/plain": [
       "     Id                              Titles  \\\n",
       "0  6973                    Toy Story (1995)   \n",
       "1  6778                      Jumanji (1995)   \n",
       "2  9702             Grumpier Old Men (1995)   \n",
       "3  6769            Waiting to Exhale (1995)   \n",
       "4  1123  Father of the Bride Part II (1995)   \n",
       "\n",
       "                                            Category  Reviews  \n",
       "0               Drama, Romance, School, Supernatural    -8.98  \n",
       "1  Action, Adventure, Drama, Fantasy, Magic, Mili...     8.88  \n",
       "2  Action, Comedy, Historical, Parody, Samurai, S...    99.00  \n",
       "3                                   Sci-Fi, Thriller    99.00  \n",
       "4  Action, Comedy, Historical, Parody, Samurai, S...    -0.44  "
      ]
     },
     "execution_count": 11,
     "metadata": {},
     "output_type": "execute_result"
    }
   ],
   "source": [
    "#load the csv file\n",
    "data=pd.read_csv(\"Entertainment.csv\")\n",
    "data.head()"
   ]
  },
  {
   "cell_type": "code",
   "execution_count": 19,
   "id": "8038737a-3969-4cad-a1b9-cd521c7c3f85",
   "metadata": {},
   "outputs": [],
   "source": [
    "#step 1: Normalize the review scores\n",
    "#We MinMaxscaler to scale the review between 0 to 1\n",
    "scaler=MinMaxScaler()\n",
    "data[\"Normalized_Reviews\"]=scaler.fit_transform(data[[\"Reviews\"]])"
   ]
  },
  {
   "cell_type": "code",
   "execution_count": 21,
   "id": "74428e9f-d4ec-4f53-95b4-8ad751926382",
   "metadata": {},
   "outputs": [],
   "source": [
    "#step 2: compute the cosine similarity between titles based on the normalized reviews\n",
    "cosine_sim_reviews=cosine_similarity(data[[\"Normalized_Reviews\"]],data[[\"Normalized_Reviews\"]])"
   ]
  },
  {
   "cell_type": "code",
   "execution_count": 25,
   "id": "06e85ef1-77de-4a1e-a291-4427a6c01083",
   "metadata": {},
   "outputs": [],
   "source": [
    "#step 3 : create function to recommend title based on review similarity\n",
    "def get_recommendations(title,cosine_sim=cosine_sim_reviews): \n",
    "    #get the index of the title that matches the input \n",
    "    idx= data[data['Titles']==title].index[0]\n",
    "\n",
    "    #Get the pairwise similaritry scores of all titles with that tiles\n",
    "    sim_scores=list(enumerate(cosine_sim[idx]))\n",
    "    sim_scores\n",
    "    #sort the titles based on the similarity scores in descending order\n",
    "    sim_scores=sorted(sim_scores,key=lambda x: x[1],reverse=True)   \n",
    "    #get the indeices of most similar titles\n",
    "    sim_indices=[i[0] for i in sim_scores[1:6]]\n",
    "    #Return the top 5 most similar titles\n",
    "    return data['Titles'].iloc[sim_indices]"
   ]
  },
  {
   "cell_type": "code",
   "execution_count": 31,
   "id": "d0c5bc24-f962-4658-b21a-3c71c42d47b2",
   "metadata": {},
   "outputs": [],
   "source": [
    "#Test the recommendation system with an example\n",
    "example=\"Toy Story (1995)\"\n",
    "recommended_titles =get_recommendations(example)"
   ]
  },
  {
   "cell_type": "code",
   "execution_count": 35,
   "id": "dd29634c-e6fe-4a7b-8848-cba54664a24f",
   "metadata": {},
   "outputs": [
    {
     "name": "stdout",
     "output_type": "stream",
     "text": [
      "Collabrative Recommendation for'Toy Story (1995)':\n",
      "Jumanji (1995)\n",
      "Grumpier Old Men (1995)\n",
      "Waiting to Exhale (1995)\n",
      "Father of the Bride Part II (1995)\n",
      "Heat (1995)\n"
     ]
    }
   ],
   "source": [
    "#print the recommendation\n",
    "print(f\"Collabrative Recommendation for'{example}':\")\n",
    "for title in recommended_titles:\n",
    "    print(title)"
   ]
  },
  {
   "cell_type": "code",
   "execution_count": null,
   "id": "5704f3ae-4087-4794-98c7-024d875ca7a8",
   "metadata": {},
   "outputs": [],
   "source": []
  }
 ],
 "metadata": {
  "kernelspec": {
   "display_name": "Python 3 (ipykernel)",
   "language": "python",
   "name": "python3"
  },
  "language_info": {
   "codemirror_mode": {
    "name": "ipython",
    "version": 3
   },
   "file_extension": ".py",
   "mimetype": "text/x-python",
   "name": "python",
   "nbconvert_exporter": "python",
   "pygments_lexer": "ipython3",
   "version": "3.12.3"
  }
 },
 "nbformat": 4,
 "nbformat_minor": 5
}
