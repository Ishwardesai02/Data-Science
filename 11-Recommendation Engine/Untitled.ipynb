{
 "cells": [
  {
   "cell_type": "code",
   "execution_count": 1,
   "id": "ffcecd76-e436-4b69-a5a3-9a0011d646f0",
   "metadata": {},
   "outputs": [],
   "source": [
    "import pandas as pd\n",
    "from sklearn.feature_extraction.text import TfidfVectorizer\n",
    "from sklearn.metrics.pairwise import cosine_similarity"
   ]
  },
  {
   "cell_type": "code",
   "execution_count": 2,
   "id": "09e14d27-54a1-4d68-b412-b94d4a239604",
   "metadata": {},
   "outputs": [
    {
     "data": {
      "text/html": [
       "<div>\n",
       "<style scoped>\n",
       "    .dataframe tbody tr th:only-of-type {\n",
       "        vertical-align: middle;\n",
       "    }\n",
       "\n",
       "    .dataframe tbody tr th {\n",
       "        vertical-align: top;\n",
       "    }\n",
       "\n",
       "    .dataframe thead th {\n",
       "        text-align: right;\n",
       "    }\n",
       "</style>\n",
       "<table border=\"1\" class=\"dataframe\">\n",
       "  <thead>\n",
       "    <tr style=\"text-align: right;\">\n",
       "      <th></th>\n",
       "      <th>Id</th>\n",
       "      <th>Titles</th>\n",
       "      <th>Category</th>\n",
       "      <th>Reviews</th>\n",
       "    </tr>\n",
       "  </thead>\n",
       "  <tbody>\n",
       "    <tr>\n",
       "      <th>0</th>\n",
       "      <td>6973</td>\n",
       "      <td>Toy Story (1995)</td>\n",
       "      <td>Drama, Romance, School, Supernatural</td>\n",
       "      <td>-8.98</td>\n",
       "    </tr>\n",
       "    <tr>\n",
       "      <th>1</th>\n",
       "      <td>6778</td>\n",
       "      <td>Jumanji (1995)</td>\n",
       "      <td>Action, Adventure, Drama, Fantasy, Magic, Mili...</td>\n",
       "      <td>8.88</td>\n",
       "    </tr>\n",
       "    <tr>\n",
       "      <th>2</th>\n",
       "      <td>9702</td>\n",
       "      <td>Grumpier Old Men (1995)</td>\n",
       "      <td>Action, Comedy, Historical, Parody, Samurai, S...</td>\n",
       "      <td>99.00</td>\n",
       "    </tr>\n",
       "    <tr>\n",
       "      <th>3</th>\n",
       "      <td>6769</td>\n",
       "      <td>Waiting to Exhale (1995)</td>\n",
       "      <td>Sci-Fi, Thriller</td>\n",
       "      <td>99.00</td>\n",
       "    </tr>\n",
       "    <tr>\n",
       "      <th>4</th>\n",
       "      <td>1123</td>\n",
       "      <td>Father of the Bride Part II (1995)</td>\n",
       "      <td>Action, Comedy, Historical, Parody, Samurai, S...</td>\n",
       "      <td>-0.44</td>\n",
       "    </tr>\n",
       "  </tbody>\n",
       "</table>\n",
       "</div>"
      ],
      "text/plain": [
       "     Id                              Titles  \\\n",
       "0  6973                    Toy Story (1995)   \n",
       "1  6778                      Jumanji (1995)   \n",
       "2  9702             Grumpier Old Men (1995)   \n",
       "3  6769            Waiting to Exhale (1995)   \n",
       "4  1123  Father of the Bride Part II (1995)   \n",
       "\n",
       "                                            Category  Reviews  \n",
       "0               Drama, Romance, School, Supernatural    -8.98  \n",
       "1  Action, Adventure, Drama, Fantasy, Magic, Mili...     8.88  \n",
       "2  Action, Comedy, Historical, Parody, Samurai, S...    99.00  \n",
       "3                                   Sci-Fi, Thriller    99.00  \n",
       "4  Action, Comedy, Historical, Parody, Samurai, S...    -0.44  "
      ]
     },
     "execution_count": 2,
     "metadata": {},
     "output_type": "execute_result"
    }
   ],
   "source": [
    "#load csv file\n",
    "file_path=\"Entertainment.csv\"\n",
    "data=pd.read_csv(file_path)\n",
    "data.head()"
   ]
  },
  {
   "cell_type": "code",
   "execution_count": 3,
   "id": "8ac5757e-d1a5-4168-85f5-bd9bd39b27cc",
   "metadata": {},
   "outputs": [
    {
     "data": {
      "text/plain": [
       "(TfidfVectorizer(stop_words='english'),\n",
       " <51x34 sparse matrix of type '<class 'numpy.float64'>'\n",
       " \twith 285 stored elements in Compressed Sparse Row format>)"
      ]
     },
     "execution_count": 3,
     "metadata": {},
     "output_type": "execute_result"
    }
   ],
   "source": [
    "#step1: Preprocess the \"category\" column using TF-IDF\n",
    "tfidf=TfidfVectorizer(stop_words='english') #Remove common stopwords\n",
    "tfidf_matrix=tfidf.fit_transform(data['Category']) #fit and transform the catgory data\n",
    "tfidf,tfidf_matrix"
   ]
  },
  {
   "cell_type": "code",
   "execution_count": 4,
   "id": "0d8895d8-beab-442a-80a6-0bbe7a47ca72",
   "metadata": {},
   "outputs": [
    {
     "data": {
      "text/plain": [
       "array([[1.        , 0.09421367, 0.        , ..., 0.12767481, 0.16772551,\n",
       "        0.31295101],\n",
       "       [0.09421367, 1.        , 0.16662513, ..., 0.22332745, 0.        ,\n",
       "        0.        ],\n",
       "       [0.        , 0.16662513, 1.        , ..., 0.13383076, 0.        ,\n",
       "        0.        ],\n",
       "       ...,\n",
       "       [0.12767481, 0.22332745, 0.13383076, ..., 1.        , 0.47083158,\n",
       "        0.17020003],\n",
       "       [0.16772551, 0.        , 0.        , ..., 0.47083158, 1.        ,\n",
       "        0.64107498],\n",
       "       [0.31295101, 0.        , 0.        , ..., 0.17020003, 0.64107498,\n",
       "        1.        ]])"
      ]
     },
     "execution_count": 4,
     "metadata": {},
     "output_type": "execute_result"
    }
   ],
   "source": [
    "#step 2: Compute the cosine similarity between titles\n",
    "cosine_sim=cosine_similarity(tfidf_matrix,tfidf_matrix)\n",
    "cosine_sim"
   ]
  },
  {
   "cell_type": "code",
   "execution_count": 30,
   "id": "d365d6a5-860f-46d5-8512-8474ec100f6a",
   "metadata": {
    "scrolled": true
   },
   "outputs": [
    {
     "data": {
      "text/plain": [
       "'\\n    data[\\'Titles\\']==title\\nThis creates a boolean mask (a series of True and False values)\\nindicating which rows in the Titles column match the input title. For example, if the title is \"Toy Story (1995)\", this comparison results in something Like:\\n0  : True\\n1  :False\\n2  :False\\n..................\\n    Name: Titles, dtype: bool\\n    \\n    Why [0] is Needed:\\n                     \\n                     Even though the title should be unique, data[data[\"Titles\\'] = title).\\n                     index still returns an array (or List-Like object), because there is \\n                     always a possibility (in general) that multiple rows might match the condition\\n                     (e.g., duplicate titles). By using [0],you are explicitly choosing the first matching index.\\n\\n                     If you don\\'t use [0],\\n                     the code will return the entire list of indices,\\n                     which can cause issues when you pass it to other 5 parts of the code that expect a single index\\n                     (Like when accessing the cosine similarity matrix)\\n    '"
      ]
     },
     "execution_count": 30,
     "metadata": {},
     "output_type": "execute_result"
    }
   ],
   "source": [
    "#step 3 : create function to recommend title based on similarity\n",
    "def get_recommendations(title,cosine_sim=cosine_sim): \n",
    "    #get the index of the title that matches the input \n",
    "    idx= data[data['Titles']==title].index[0]\n",
    "\n",
    "    #Get the pairwise similaritry scores of all titles with that tiles\n",
    "    sim_scores=list(enumerate(cosine_sim[idx]))\n",
    "    sim_scores\n",
    "    #sort the titles based on the similarity scores in descending order\n",
    "    sim_scores=sorted(sim_scores,key=lambda x: x[1],reverse=True)   \n",
    "    #get the indeices of most similar titles\n",
    "    sim_indices=[i[0] for i in sim_scores[1:6]]\n",
    "    #Return the top 5 most similar titles\n",
    "    return data['Titles'].iloc[sim_indices]\n",
    "\n",
    "'''\n",
    "    data['Titles']==title\n",
    "This creates a boolean mask (a series of True and False values)\n",
    "indicating which rows in the Titles column match the input title. For example, if the title is \"Toy Story (1995)\", this comparison results in something Like:\n",
    "0  : True\n",
    "1  :False\n",
    "2  :False\n",
    "..................\n",
    "    Name: Titles, dtype: bool\n",
    "    \n",
    "    Why [0] is Needed:\n",
    "                     \n",
    "                     Even though the title should be unique, data[data[\"Titles'] = title).\n",
    "                     index still returns an array (or List-Like object), because there is \n",
    "                     always a possibility (in general) that multiple rows might match the condition\n",
    "                     (e.g., duplicate titles). By using [0],you are explicitly choosing the first matching index.\n",
    "\n",
    "                     If you don't use [0],\n",
    "                     the code will return the entire list of indices,\n",
    "                     which can cause issues when you pass it to other 5 parts of the code that expect a single index\n",
    "                     (Like when accessing the cosine similarity matrix)\n",
    "    '''\n",
    "    \n",
    "    \n",
    "    "
   ]
  },
  {
   "cell_type": "code",
   "execution_count": 44,
   "id": "6ad768ce-5d00-4372-be95-35df165e1f00",
   "metadata": {},
   "outputs": [],
   "source": [
    "#Test the recommendation system with an example\n",
    "example=\"Toy Story (1995)\"\n",
    "recommended_titles =get_recommendations(example)"
   ]
  },
  {
   "cell_type": "code",
   "execution_count": 50,
   "id": "52bc35a8-be9b-44c5-8379-b3e042321061",
   "metadata": {},
   "outputs": [
    {
     "name": "stdout",
     "output_type": "stream",
     "text": [
      "Recommendation for'Toy Story(1995)':\n",
      "Othello (1995)\n",
      "Sense and Sensibility (1995)\n",
      "Dracula: Dead and Loving It (1995)\n",
      "American President, The (1995)\n",
      "When Night Is Falling (1995)\n"
     ]
    }
   ],
   "source": [
    "#print the recommendation\n",
    "print(f\"Recommendation for'{example_title}':\")\n",
    "for title in recommended_titles:\n",
    "    print(title)"
   ]
  },
  {
   "cell_type": "code",
   "execution_count": 52,
   "id": "16c69e6a-b582-41d8-807e-6e32ae169ac9",
   "metadata": {},
   "outputs": [
    {
     "data": {
      "text/plain": [
       "4     Father of the Bride Part II (1995)\n",
       "8                    Sudden Death (1995)\n",
       "9                       GoldenEye (1995)\n",
       "12                          Balto (1995)\n",
       "41                     To Die For (1995)\n",
       "Name: Titles, dtype: object"
      ]
     },
     "execution_count": 52,
     "metadata": {},
     "output_type": "execute_result"
    }
   ],
   "source": [
    "get_recommendations(\"Father of the Bride Part II (1995)\")"
   ]
  },
  {
   "cell_type": "code",
   "execution_count": null,
   "id": "d05adc50-ae77-4aab-8e3d-b7b595ee39cd",
   "metadata": {},
   "outputs": [],
   "source": []
  }
 ],
 "metadata": {
  "kernelspec": {
   "display_name": "Python 3 (ipykernel)",
   "language": "python",
   "name": "python3"
  },
  "language_info": {
   "codemirror_mode": {
    "name": "ipython",
    "version": 3
   },
   "file_extension": ".py",
   "mimetype": "text/x-python",
   "name": "python",
   "nbconvert_exporter": "python",
   "pygments_lexer": "ipython3",
   "version": "3.12.3"
  }
 },
 "nbformat": 4,
 "nbformat_minor": 5
}
