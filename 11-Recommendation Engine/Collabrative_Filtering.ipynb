{
 "cells": [
  {
   "cell_type": "code",
   "execution_count": 1,
   "id": "cd30c001-2d12-422c-a1d8-4c16945eb490",
   "metadata": {},
   "outputs": [],
   "source": [
    "import pandas as pd\n",
    "from sklearn.metrics.pairwise import cosine_similarity\n",
    "import numpy as np"
   ]
  },
  {
   "cell_type": "code",
   "execution_count": 5,
   "id": "b678b44d-7090-4119-8b4a-76155b2b6978",
   "metadata": {},
   "outputs": [
    {
     "data": {
      "text/html": [
       "<div>\n",
       "<style scoped>\n",
       "    .dataframe tbody tr th:only-of-type {\n",
       "        vertical-align: middle;\n",
       "    }\n",
       "\n",
       "    .dataframe tbody tr th {\n",
       "        vertical-align: top;\n",
       "    }\n",
       "\n",
       "    .dataframe thead th {\n",
       "        text-align: right;\n",
       "    }\n",
       "</style>\n",
       "<table border=\"1\" class=\"dataframe\">\n",
       "  <thead>\n",
       "    <tr style=\"text-align: right;\">\n",
       "      <th></th>\n",
       "      <th>userId</th>\n",
       "      <th>game</th>\n",
       "      <th>rating</th>\n",
       "    </tr>\n",
       "  </thead>\n",
       "  <tbody>\n",
       "    <tr>\n",
       "      <th>0</th>\n",
       "      <td>3</td>\n",
       "      <td>The Legend of Zelda: Ocarina of Time</td>\n",
       "      <td>4.0</td>\n",
       "    </tr>\n",
       "    <tr>\n",
       "      <th>1</th>\n",
       "      <td>6</td>\n",
       "      <td>Tony Hawk's Pro Skater 2</td>\n",
       "      <td>5.0</td>\n",
       "    </tr>\n",
       "    <tr>\n",
       "      <th>2</th>\n",
       "      <td>8</td>\n",
       "      <td>Grand Theft Auto IV</td>\n",
       "      <td>4.0</td>\n",
       "    </tr>\n",
       "    <tr>\n",
       "      <th>3</th>\n",
       "      <td>10</td>\n",
       "      <td>SoulCalibur</td>\n",
       "      <td>4.0</td>\n",
       "    </tr>\n",
       "    <tr>\n",
       "      <th>4</th>\n",
       "      <td>11</td>\n",
       "      <td>Grand Theft Auto IV</td>\n",
       "      <td>4.5</td>\n",
       "    </tr>\n",
       "  </tbody>\n",
       "</table>\n",
       "</div>"
      ],
      "text/plain": [
       "   userId                                  game  rating\n",
       "0       3  The Legend of Zelda: Ocarina of Time     4.0\n",
       "1       6              Tony Hawk's Pro Skater 2     5.0\n",
       "2       8                   Grand Theft Auto IV     4.0\n",
       "3      10                           SoulCalibur     4.0\n",
       "4      11                   Grand Theft Auto IV     4.5"
      ]
     },
     "execution_count": 5,
     "metadata": {},
     "output_type": "execute_result"
    }
   ],
   "source": [
    "#load the csv file\n",
    "file_path=\"game.csv\"\n",
    "data=pd.read_csv(file_path)\n",
    "data.head()"
   ]
  },
  {
   "cell_type": "code",
   "execution_count": 9,
   "id": "6881f32d-016c-44f0-a931-16d0bf777f3d",
   "metadata": {},
   "outputs": [
    {
     "data": {
      "text/plain": [
       "'\\npivot table : this function reshapes the dataset into matrix where:\\n\\n       Each row represents a user (identified by userId).\\n       Each column represents a game (idenfied by game).\\n       The value in the matrix represent the ratings that \\n       users gave to the games\\n    '"
      ]
     },
     "execution_count": 9,
     "metadata": {},
     "output_type": "execute_result"
    }
   ],
   "source": [
    "#Step 1: Create a user-item matrix (rows:users,colimns:games,values:rating\n",
    "user_item_matrix=data.pivot_table(index=\"userId\",columns=\"game\",values=\"rating\")\n",
    "\"\"\"\n",
    "pivot table : this function reshapes the dataset into matrix where:\n",
    "\n",
    "       Each row represents a user (identified by userId).\n",
    "       Each column represents a game (idenfied by game).\n",
    "       The value in the matrix represent the ratings that \n",
    "       users gave to the games\n",
    "    \"\"\""
   ]
  },
  {
   "cell_type": "code",
   "execution_count": 11,
   "id": "50d66463-2d00-4158-ad7c-923c07d3e5c8",
   "metadata": {},
   "outputs": [
    {
     "data": {
      "text/plain": [
       "'\\nThis line represents any missing values (Nans)\\nin the user-item matrix with 0\\nindicating that the user did not rate that particular game.\\n'"
      ]
     },
     "execution_count": 11,
     "metadata": {},
     "output_type": "execute_result"
    }
   ],
   "source": [
    "#step 2: Fill NaN values with 0 (assuming no rating means the game has not)\n",
    "\n",
    "user_item_matrix_filled=user_item_matrix.fillna(0)\n",
    "\"\"\"\n",
    "This line represents any missing values (Nans)\n",
    "in the user-item matrix with 0\n",
    "indicating that the user did not rate that particular game.\n",
    "\"\"\"\n"
   ]
  },
  {
   "cell_type": "code",
   "execution_count": 15,
   "id": "a17d52c0-0043-4955-bd62-e6dff513b2b6",
   "metadata": {},
   "outputs": [],
   "source": [
    "#step 3: Compute the coseine similarity between the users based on raw rating\n",
    "user_similarity=cosine_similarity(user_item_matrix_filled)\n",
    "\n",
    "#convert similarity matrix to DataFrame  for easy reference \n",
    "user_similarity_df=pd.DataFrame(user_similarity,index=user_item_matrix.index,columns=user_item_matrix.index)"
   ]
  },
  {
   "cell_type": "code",
   "execution_count": 45,
   "id": "3cf2602f-b065-410e-92d7-6c09f8d4bba8",
   "metadata": {},
   "outputs": [],
   "source": [
    "#step 4: Function to get game recommendation fora specific user based on\n",
    "\n",
    "def get_collab_recomm_for_user(user_id,num_recommendations=5):\n",
    "    #get similarity scores for the input user with all other users\n",
    "    similar_users=user_similarity_df[user_id].sort_values(ascending=False)\n",
    "\n",
    "    #get the most similar users(excluding the user themselves)\n",
    "    similar_users=similar_users.drop(user_id)\n",
    "\n",
    "    #select the top N similar users to limit noise (e.g top 50 users)\n",
    "    top_similar_users=similar_users.head(50)\n",
    "\n",
    "    #this selects the top similar user to limit noise in recommendation\n",
    "    #Get rating of this similar users ,weighted bby their similarity scores\n",
    "    weighted_ratings=np.dot(top_similar_users.values,user_item_matrix_filled.loc[top_similar_users.index])\n",
    "\n",
    "    #np.dot:this computs thye dot product between the similarity scores of the top similar users and thier corresponding ratings in the \n",
    "    #user -item matrix .\n",
    "    #The result is an array of weighted ratings for each game.\n",
    "    #Normalize by the sum of similarities\n",
    "\n",
    "    sum_of_similarities=top_similar_users.sum()\n",
    "\n",
    "    if sum_of_similarities>0:\n",
    "        weighted_ratings/=sum_of_similarities\n",
    "    #the weigthed ratings are normalized by didivding by the sum \n",
    "\n",
    "    #Recommend games that user hasn't rated yet \n",
    "    user_ratings=user_item_matrix_filled.loc[user_id]\n",
    "    unrated_games=user_ratings[user_ratings==0]\n",
    "    #identifies games that target users has not rated \n",
    "\n",
    "    #get the weighted scores for unrated games\n",
    "    game_recommendations=pd.Series(weighted_ratings, index=user_item_matrix_filled.columns).loc[unrated_games.index]\n",
    "    #this creates a pandas series from the weighted ratings and filters to include only the unrated games\n",
    "    #finally it sorts the recommended games in descending order and returns the top specified number of recommmendations\n",
    "\n",
    "    #return the top 'num_recommendations' game recommendations\n",
    "    return game_recommendations.sort_values(ascending=False).head(num_recommendations)"
   ]
  },
  {
   "cell_type": "code",
   "execution_count": 51,
   "id": "2f5b0ec2-d163-4f42-98e5-e2e338312b00",
   "metadata": {},
   "outputs": [],
   "source": [
    "#Example usage : get recommendations for a user with 10 3\n",
    "recommeded_games=get_collab_recomm_for_user(user_id=22)\n"
   ]
  },
  {
   "cell_type": "code",
   "execution_count": 53,
   "id": "d3477dda-ac59-46d8-9e3b-afe84da9c0d0",
   "metadata": {},
   "outputs": [
    {
     "name": "stdout",
     "output_type": "stream",
     "text": [
      "Recommended games for user 3 :\n",
      "game\n",
      "Alan Wake: The Writer                 0.728709\n",
      "Command & Conquer 3: Tiberium Wars    0.666940\n",
      "World of Tanks                        0.666940\n",
      "'Splosion Man                         0.000000\n",
      "Retro City Rampage                    0.000000\n",
      "dtype: float64\n"
     ]
    }
   ],
   "source": [
    "#print the recommended games\n",
    "print(\"Recommended games for user 3 :\")\n",
    "print(recommeded_games)"
   ]
  },
  {
   "cell_type": "code",
   "execution_count": null,
   "id": "ab47caf1-cd00-4fec-92e7-2fdb9bf53f96",
   "metadata": {},
   "outputs": [],
   "source": []
  }
 ],
 "metadata": {
  "kernelspec": {
   "display_name": "Python 3 (ipykernel)",
   "language": "python",
   "name": "python3"
  },
  "language_info": {
   "codemirror_mode": {
    "name": "ipython",
    "version": 3
   },
   "file_extension": ".py",
   "mimetype": "text/x-python",
   "name": "python",
   "nbconvert_exporter": "python",
   "pygments_lexer": "ipython3",
   "version": "3.12.3"
  }
 },
 "nbformat": 4,
 "nbformat_minor": 5
}
